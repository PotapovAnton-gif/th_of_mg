{
 "cells": [
  {
   "cell_type": "markdown",
   "metadata": {},
   "source": [
    "# Задача об переворачивании математического маятника\n",
    "в статье, приведенной мне по ссылке: https://www.gymlibrary.ml/environments/classic_control/pendulum/?highlight=pendulum, не уточняется какой именно маятник,\n",
    "но пусть он будет математическим с начльными условиями:\n",
    "$l = 1, m = 1, \\theta_1 = \\theta_0, \\omega_1 =\\omega_0 $\n",
    "Задача состоит в том, что бы перевернуть его в верхнее положение и удерживать его там.\n",
    "Для этого воспользуемся PID регулятором:\n"
   ]
  },
  {
   "cell_type": "markdown",
   "metadata": {},
   "source": [
    "Уравнения:\n",
    "\n",
    "$ml^2\\ddot{\\theta} + mglsin(\\theta) = u \\newline\n",
    "\\left\\{ \\begin{gathered}\n",
    "\\dot{\\theta}_0 = \\theta_1\\\\\n",
    "\\dot{\\theta}_1 = \\frac{u - mglsin(\\theta_0)}{l^2m}\n",
    "\\end{gathered}  \\right.$"
   ]
  },
  {
   "cell_type": "markdown",
   "metadata": {},
   "source": []
  },
  {
   "cell_type": "markdown",
   "metadata": {},
   "source": []
  },
  {
   "cell_type": "code",
   "execution_count": 215,
   "metadata": {},
   "outputs": [],
   "source": [
    "#Начальное значение\n",
    "from math import *\n",
    "import numpy as np\n",
    "from scipy.integrate import solve_ivp\n",
    "import matplotlib.pyplot as plt\n",
    "\n",
    "\n",
    "\n",
    "\n",
    "class Params:\n",
    "\n",
    "    def __init__(self):\n",
    "\n",
    "        self.m = 1\n",
    "        self.l = 1\n",
    "        self.g = 9.8\n"
   ]
  },
  {
   "cell_type": "code",
   "execution_count": 216,
   "metadata": {},
   "outputs": [],
   "source": [
    "\n",
    "\n",
    "def rhs(t, th, p, u):\n",
    "    \n",
    "    dthdt = np.zeros(2)\n",
    "    dthdt[0] = th[1]\n",
    "    dthdt[1] = (u - p.m*p.g*p.l*sin(th[0]))/(p.l**2*p.m)\n",
    "    return dthdt\n"
   ]
  },
  {
   "cell_type": "code",
   "execution_count": 217,
   "metadata": {},
   "outputs": [],
   "source": [
    "class PID_Controller():\n",
    "    def __init__(self, dt, kp, ki, kd):\n",
    "        self.kp = kp\n",
    "        self.ki = ki\n",
    "        self.kd = kd\n",
    "        self.dt = dt\n",
    "        self.integral = 0\n",
    "        self.e_prev = None\n",
    "\n",
    "    def update(self, state, reference):\n",
    "        error = state - reference\n",
    "        if self.e_prev is None:\n",
    "            dedt = 0\n",
    "        else:\n",
    "            # первый порядок апроксимации\n",
    "            dedt = (error - self.e_prev) / self.dt\n",
    "        \n",
    "        self.integral = self.integral + error * self.dt\n",
    "\n",
    "        self.e_prev = error\n",
    "        return self.kp * error + self.ki * self.integral + self.kd * dedt\n"
   ]
  },
  {
   "cell_type": "code",
   "execution_count": 218,
   "metadata": {},
   "outputs": [],
   "source": [
    "\n",
    "\n",
    "def ra(t):\n",
    "    return pi/2\n",
    "\n",
    "\n",
    "# Решатель\n",
    "def solve(t0, tf, dt, th0, p, pid1):\n",
    "    time = np.arange(t0, tf, dt)\n",
    "    result = th0\n",
    "    force = []\n",
    "    \n",
    "    for i in range(len(time) - 1):\n",
    "        \n",
    "        u = pid1.update(th0[0], ra(time[i]))\n",
    "        force = np.append(force, u)\n",
    "        solution = solve_ivp(lambda t, th: rhs(t, th, p, u), (time[i], time[i + 1]), th0)\n",
    "        th0 = solution.y[:, -1]\n",
    "    \n",
    "        if abs(th0[0]) > pi:\n",
    "            th0[0] = pi* np.sign(th0[0])\n",
    "        result = np.vstack((result, th0))\n",
    "    \n",
    "    return time, force, result"
   ]
  },
  {
   "cell_type": "code",
   "execution_count": 219,
   "metadata": {},
   "outputs": [],
   "source": [
    "t_0 = 0\n",
    "t_f = 100\n",
    "d_t = 0.01\n",
    "init = [1.32, 1.56]\n",
    "param = Params()\n",
    "\n",
    "pid1 = PID_Controller(d_t, 2, 0, 1)\n",
    "\n",
    "\n",
    "[t, f, theta] = solve(t_0, t_f, d_t, init, param, pid1)"
   ]
  },
  {
   "cell_type": "code",
   "execution_count": 220,
   "metadata": {},
   "outputs": [
    {
     "data": {
      "image/png": "[encoded data removed]",
      "text/plain": [
       "<Figure size 432x288 with 2 Axes>"
      ]
     },
     "metadata": {
      "needs_background": "light"
     },
     "output_type": "display_data"
    }
   ],
   "source": [
    "\n",
    "\n",
    "ax = plt.subplot(2,1,1)\n",
    "\n",
    "ax.plot(t, theta[:,0])\n",
    "ax.set_xlabel('t, sec')\n",
    "ax.set_ylabel('theta, rad')\n",
    "ax.grid()\n",
    "\n",
    "\n",
    "ax = plt.subplot(2, 1, 2)\n",
    "ax.plot(t[0:-1], f)\n",
    "ax.set_xlabel('t, sec')\n",
    "ax.set_ylabel('F, N')\n",
    "ax.grid()\n",
    "\n",
    "plt.savefig(\"file1.jpeg\")\n"
   ]
  }
 ],
 "metadata": {
  "interpreter": {
   "hash": "958b4ba616b4167876068ea87d2abe5fd1ac49bae82ce1f61d1b83892be8c5fd"
  },
  "kernelspec": {
   "display_name": "Python 3.9.7 ('base')",
   "language": "python",
   "name": "python3"
  },
  "language_info": {
   "codemirror_mode": {
    "name": "ipython",
    "version": 3
   },
   "file_extension": ".py",
   "mimetype": "text/x-python",
   "name": "python",
   "nbconvert_exporter": "python",
   "pygments_lexer": "ipython3",
   "version": "3.9.7"
  },
  "orig_nbformat": 4
 },
 "nbformat": 4,
 "nbformat_minor": 2
}
