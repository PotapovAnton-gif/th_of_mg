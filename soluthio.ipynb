{
 "cells": [
  {
   "cell_type": "markdown",
   "metadata": {},
   "source": [
    "Уравнения:\n",
    "\n",
    "$\\frac{1}{2}(M + m) \\ddot{x} - ml\\ddot{\\theta} cos(\\theta) + ml\\dot{\\theta}^2 sin(\\theta) = F$\n",
    "\n",
    "$l\\ddot{\\theta} - gsin(\\theta) = \\ddot{x}cos{\\theta}$"
   ]
  },
  {
   "cell_type": "markdown",
   "metadata": {},
   "source": [
    "$\n",
    "\\left\\{ \\begin{gathered}\n",
    "\\dot{x}_0 = x_1\\\\\n",
    "\\dot{x}_1 = \\frac{-mgcos(x_2)sin(x_2) + mlx^2_3sin(x_2) + u}{M + msin^2(x_2) } + d_1\\\\\n",
    "\\dot{x}_2 = x_3\\\\\n",
    "\\dot{x}_3 = \\frac{mlx_3^2cos(x_2)sin(x_2) - ucos(x_2) + (M +m)gsinx_2}{ML + mlsin^2(x_2)} + d_2\\\\\n",
    "\\end{gathered}  \\right.\n",
    "$"
   ]
  },
  {
   "cell_type": "code",
   "execution_count": 51,
   "metadata": {},
   "outputs": [],
   "source": [
    "#Начальное значение\n",
    "from math import *\n",
    "\n",
    "\n",
    "class Params:\n",
    "\n",
    "    def __init__(self):\n",
    "\n",
    "        self.m = 0.1\n",
    "        self.M = 1.\n",
    "        self.l = 0.3\n",
    "        self.g = 9.8"
   ]
  },
  {
   "cell_type": "code",
   "execution_count": 52,
   "metadata": {},
   "outputs": [],
   "source": [
    "import numpy as np\n",
    "\n",
    "\n",
    "def right_equasion(t, x, p, u):\n",
    "    \n",
    "    dxdt = np.zeros(4)\n",
    "    dxdt[0] = x[1]\n",
    "    dxdt[1] = (-p.m * p.g * cos(x[2]) * sin(x[2]) + p.m * p.l * sin(x[2]) * x[3] ** 2 + u) / (\n",
    "            p.M + p.m * sin(x[2]) ** 2) + 20 * sin(20 * pi * t)\n",
    "    dxdt[2] = x[3]\n",
    "    dxdt[3] = (-p.m * p.l * cos(x[2]) * sin(x[2]) * x[3] ** 2 - cos(x[2]) * u + (p.M + p.m) * p.g * sin(x[2])) / (\n",
    "            p.M * p.l + p.m * p.l * sin(x[2]) ** 2) + 20 * sin(20 * pi * t)\n",
    "    \n",
    "    return dxdt\n"
   ]
  },
  {
   "cell_type": "code",
   "execution_count": 53,
   "metadata": {},
   "outputs": [],
   "source": [
    "class PID_Controller():\n",
    "    def __init__(self, dt, kp, ki, kd):\n",
    "        self.kp = kp\n",
    "        self.ki = ki\n",
    "        self.kd = kd\n",
    "        self.dt = dt\n",
    "        self.integral = 0\n",
    "        self.e_prev = None\n",
    "\n",
    "    def update(self, state, reference):\n",
    "        error = state - reference\n",
    "        if self.e_prev is None:\n",
    "            dedt = 0\n",
    "        else:\n",
    "            # первый порядок апроксимации\n",
    "            dedt = (error - self.e_prev) / self.dt\n",
    "        \n",
    "        self.integral = self.integral + error * self.dt\n",
    "\n",
    "        self.e_prev = error\n",
    "        return self.kp * error + self.ki * self.integral + self.kd * dedt\n"
   ]
  },
  {
   "cell_type": "code",
   "execution_count": 54,
   "metadata": {},
   "outputs": [],
   "source": [
    "def reference_angle(t):\n",
    "    return 0\n",
    "\n",
    "\n",
    "def rp(t):\n",
    "    return 0.3 * sin(0.05 * pi * t)\n",
    "\n",
    "\n",
    "from scipy.integrate import solve_ivp\n",
    "import matplotlib.pyplot as plt\n",
    "\n",
    "def solve(t0, tf, dt, x0, p, pid1):\n",
    "    \n",
    "    t = np.arange(t0, tf, dt)\n",
    "    res = x0\n",
    "    f = []\n",
    "\n",
    "    for i in range(len(t) - 1):\n",
    "        \n",
    "        u = pid1.update(x0[2], reference_angle(t[i]))\n",
    "        f = np.append(f, u)\n",
    "        solution = solve_ivp(lambda t, x: right_equasion(t, x, p, u), (t[i], t[i + 1]), x0)\n",
    "        x0 = solution.y[:, -1]\n",
    "        \n",
    "        if abs(x0[0]) > 0.5:\n",
    "            \n",
    "            x0[0] = 0.5 * np.sign(x0[0])\n",
    "        \n",
    "        res = np.vstack((res, x0))\n",
    "\n",
    "    return t, f, res"
   ]
  },
  {
   "cell_type": "code",
   "execution_count": 55,
   "metadata": {},
   "outputs": [],
   "source": [
    "t_0 = 0\n",
    "t_f = 100\n",
    "d_t = 0.01\n",
    "init = [0., 0., 0.5, 0.]\n",
    "param = Params()\n",
    "\n",
    "pid1 = PID_Controller(d_t, 25, 15, 3)\n",
    "\n",
    "\n",
    "[t, f, x] = solve(t_0, t_f, d_t, init, param, pid1)"
   ]
  },
  {
   "cell_type": "code",
   "execution_count": 56,
   "metadata": {},
   "outputs": [
    {
     "data": {
      "image/png": "[encoded data removed]",
      "text/plain": [
       "<Figure size 432x288 with 3 Axes>"
      ]
     },
     "metadata": {
      "needs_background": "light"
     },
     "output_type": "display_data"
    }
   ],
   "source": [
    "\n",
    "\n",
    "ax = plt.subplot(2,1,2)\n",
    "\n",
    "ax.plot(t, x[:, 2])\n",
    "ax.set_xlabel('t, sec')\n",
    "ax.set_ylabel('theta, rad')\n",
    "ax.grid()\n",
    "\n",
    "ax = plt.subplot(2, 2, 1)\n",
    "ax.plot(t, x[:, 0])\n",
    "ax.set_xlabel('t, sec')\n",
    "ax.set_ylabel('x, m')\n",
    "ax.grid()\n",
    "\n",
    "ax = plt.subplot(2, 2, 2)\n",
    "ax.plot(t[0:-1], f)\n",
    "ax.set_xlabel('t, sec')\n",
    "ax.set_ylabel('F, N')\n",
    "ax.grid()\n",
    "\n",
    "plt.savefig(\"file1.jpeg\")\n"
   ]
  }
 ],
 "metadata": {
  "interpreter": {
   "hash": "958b4ba616b4167876068ea87d2abe5fd1ac49bae82ce1f61d1b83892be8c5fd"
  },
  "kernelspec": {
   "display_name": "Python 3.9.7 ('base')",
   "language": "python",
   "name": "python3"
  },
  "language_info": {
   "codemirror_mode": {
    "name": "ipython",
    "version": 3
   },
   "file_extension": ".py",
   "mimetype": "text/x-python",
   "name": "python",
   "nbconvert_exporter": "python",
   "pygments_lexer": "ipython3",
   "version": "3.9.7"
  },
  "orig_nbformat": 4
 },
 "nbformat": 4,
 "nbformat_minor": 2
}
